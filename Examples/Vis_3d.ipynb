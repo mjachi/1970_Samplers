{
 "cells": [
  {
   "cell_type": "code",
   "execution_count": 1,
   "id": "37ef7950",
   "metadata": {},
   "outputs": [],
   "source": [
    "using Samplers"
   ]
  },
  {
   "cell_type": "code",
   "execution_count": null,
   "id": "c6248af6",
   "metadata": {},
   "outputs": [],
   "source": []
  }
 ],
 "metadata": {
  "kernelspec": {
   "display_name": "Julia 1.8.5",
   "language": "julia",
   "name": "julia-1.8"
  },
  "language_info": {
   "file_extension": ".jl",
   "mimetype": "application/julia",
   "name": "julia",
   "version": "1.8.5"
  }
 },
 "nbformat": 4,
 "nbformat_minor": 5
}
