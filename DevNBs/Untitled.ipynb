{
 "cells": [
  {
   "cell_type": "code",
   "execution_count": 1,
   "id": "6e30323b",
   "metadata": {},
   "outputs": [],
   "source": [
    "using Random"
   ]
  },
  {
   "cell_type": "code",
   "execution_count": 2,
   "id": "daf60659",
   "metadata": {},
   "outputs": [],
   "source": [
    "using BenchmarkTools"
   ]
  },
  {
   "cell_type": "code",
   "execution_count": 1,
   "id": "49675dce",
   "metadata": {},
   "outputs": [],
   "source": [
    "####### 1d Ising\n",
    "# Metropolis"
   ]
  },
  {
   "cell_type": "code",
   "execution_count": null,
   "id": "fd7feedf",
   "metadata": {},
   "outputs": [],
   "source": [
    "mutable type Measurements\n",
    "    configurations::Confs # first two dim = conf, third dim = n_conf\n",
    "    energies::Array{Float64, 1}\n",
    "    magnetization::Array{Float64, 1}\n",
    "    \n",
    "    Measurements() = new()\n",
    "end"
   ]
  },
  {
   "cell_type": "code",
   "execution_count": null,
   "id": "ac68b355",
   "metadata": {},
   "outputs": [],
   "source": []
  },
  {
   "cell_type": "code",
   "execution_count": 13,
   "id": "e53b9efd",
   "metadata": {},
   "outputs": [
    {
     "name": "stderr",
     "output_type": "stream",
     "text": [
      "WARNING: replacing module MC.\n"
     ]
    }
   ],
   "source": [
    "# Wrap everything with a module to allow redefition of type\n",
    "module MC\n",
    "\n",
    "\"\"\"\n",
    "Composite type to represent a spin state\n",
    "\"\"\"\n",
    "mutable struct SpinState\n",
    "    num_spins::Int\n",
    "    s::Array{Int8,1}\n",
    "    energy::Int\n",
    "    tot_mag::Int\n",
    "end\n",
    "\n",
    "\"\"\"\n",
    "Energy\n",
    "\"\"\"\n",
    "function energy(s)\n",
    "    n = length(s)\n",
    "    - sum((s[i] * s[ifelse(i == n, 1, i+1)] for i in 1:n))\n",
    "end\n",
    "\n",
    "\"\"\"\n",
    "Total magnetization\n",
    "\"\"\"\n",
    "total_magnetization(s) = sum(s)\n",
    "\n",
    "\"\"\"\n",
    "Constructor\n",
    "\"\"\"\n",
    "function SpinState(s)\n",
    "    ss = SpinState(length(s), copy(s), energy(s), total_magnetization(s))\n",
    "    sanity_check(ss)\n",
    "    ss\n",
    "end\n",
    "\n",
    "\"\"\"\n",
    "Sanity check\n",
    "\"\"\"\n",
    "function sanity_check(ss)\n",
    "    @assert energy(ss.s) == ss.energy\n",
    "    @assert total_magnetization(ss.s) == ss.tot_mag\n",
    "end\n",
    "\n",
    "\"\"\"\n",
    "Take an object of SpinState as an input and update it in place.\n",
    "\"\"\"\n",
    "function update!(ss, β, niters)\n",
    "    min_h = -2\n",
    "    max_h = 2\n",
    "    s = ss.s\n",
    "    n = ss.num_spins\n",
    "    prob = [1/(1+exp(-2*β*h)) for h in min_h:max_h]\n",
    "    for iter in 1:niters, i in 1:n\n",
    "        sl = s[ifelse(i == 1, n, i-1)]\n",
    "        sr = s[ifelse(i == n, 1, i+1)]\n",
    "        # h = -2, 0, 2\n",
    "        h = sl + sr\n",
    "        si_old = s[i]\n",
    "        s[i] = ifelse(rand() < prob[h-min_h+1], +1, -1)\n",
    "        \n",
    "        # Update observables with O(1) operations\n",
    "        ss.energy += (si_old - s[i]) * h\n",
    "        ss.tot_mag += (s[i] - si_old)\n",
    "    end\n",
    "end\n",
    "\n",
    "end\n",
    ";"
   ]
  },
  {
   "cell_type": "code",
   "execution_count": 14,
   "id": "73fc4922",
   "metadata": {},
   "outputs": [],
   "source": [
    "ss = MC.SpinState(s0)\n",
    "MC.update!(ss, β, niters)\n",
    "MC.sanity_check(ss)"
   ]
  },
  {
   "cell_type": "code",
   "execution_count": 9,
   "id": "721df965",
   "metadata": {},
   "outputs": [
    {
     "data": {
      "text/plain": [
       "100-element Vector{Int8}:\n",
       " -1\n",
       "  1\n",
       "  1\n",
       "  1\n",
       "  1\n",
       " -1\n",
       "  1\n",
       " -1\n",
       " -1\n",
       " -1\n",
       " -1\n",
       "  1\n",
       " -1\n",
       "  ⋮\n",
       " -1\n",
       " -1\n",
       "  1\n",
       " -1\n",
       "  1\n",
       " -1\n",
       " -1\n",
       "  1\n",
       "  1\n",
       "  1\n",
       " -1\n",
       " -1"
      ]
     },
     "execution_count": 9,
     "metadata": {},
     "output_type": "execute_result"
    }
   ],
   "source": [
    "num_spins = 100\n",
    "s0 = rand(Int8[-1, 1], num_spins)\n",
    "β = 10.0\n",
    "niters = 10^3\n",
    "\n",
    "s = copy(s0)"
   ]
  },
  {
   "cell_type": "code",
   "execution_count": 26,
   "id": "cf02cc68",
   "metadata": {},
   "outputs": [],
   "source": [
    "nsweeps = 10^6\n",
    "num_spins = 100\n",
    "\n",
    "s0 = rand(Int8[-1, 1], num_spins)\n",
    "\n",
    "Ts_mc = range(0.4, 2, length=10)\n",
    "\n",
    "C_mc = Float64[]\n",
    "for T in Ts_mc\n",
    "    ss = MC.SpinState(s0)\n",
    "    acc = Meas.Accumulator()\n",
    "    solve!(ss, acc, 1/T, nsweeps, ntherm, interval_meas)\n",
    "    E = Meas.mean(acc, \"E\")\n",
    "    E2 = Meas.mean(acc, \"E2\")\n",
    "    push!(C_mc, (E2-E^2)/T^2)\n",
    "end"
   ]
  },
  {
   "cell_type": "code",
   "execution_count": 16,
   "id": "7499d445",
   "metadata": {},
   "outputs": [],
   "source": [
    "module Meas\n",
    "\n",
    "struct Accumulator\n",
    "    count::Dict{String,UInt64}\n",
    "    data::Dict{String,Any}\n",
    "end\n",
    "\n",
    "\"\"\"\n",
    "Constructor\n",
    "\"\"\"\n",
    "function Accumulator()\n",
    "    Accumulator(Dict{String,UInt64}(), Dict{String,Any}())\n",
    "end\n",
    "\n",
    "\"\"\"\n",
    "Add a sample\n",
    "\"\"\"\n",
    "function add!(acc::Accumulator, name::String, data)\n",
    "    if haskey(acc.count, name)\n",
    "        acc.count[name] += 1\n",
    "        acc.data[name] += data\n",
    "    else\n",
    "        acc.count[name] = 1\n",
    "        acc.data[name] = copy(data)\n",
    "    end\n",
    "end\n",
    "\n",
    "\"\"\"\n",
    "Compuate mean\n",
    "\"\"\"\n",
    "function mean(acc::Accumulator, name::String)\n",
    "    return acc.data[name]/acc.count[name]\n",
    "end\n",
    "\n",
    "end\n",
    "\n",
    "\n",
    "# Perform some tests\n",
    "let\n",
    "    acc = Meas.Accumulator()\n",
    "    Meas.add!(acc, \"obs1\", ones(4))\n",
    "    Meas.add!(acc, \"obs1\", fill(2.0, 4))\n",
    "    Meas.add!(acc, \"obs2\", ones(4))\n",
    "    Meas.add!(acc, \"obs2\", ones(4))\n",
    "    @assert Meas.mean(acc, \"obs1\") ≈ fill(1.5, 4)\n",
    "    @assert Meas.mean(acc, \"obs2\") ≈ ones(4)\n",
    "end"
   ]
  },
  {
   "cell_type": "code",
   "execution_count": 25,
   "id": "d5191b3a",
   "metadata": {},
   "outputs": [
    {
     "data": {
      "text/plain": [
       "1.0"
      ]
     },
     "execution_count": 25,
     "metadata": {},
     "output_type": "execute_result"
    }
   ],
   "source": [
    "function solve!(ss, acc, β, nsweeps, ntherm, interval_meas)\n",
    "    if mod(nsweeps, interval_meas) != 0\n",
    "        error(\"nsweeps cannot be divided by interval_meas!\")\n",
    "    end\n",
    "    \n",
    "    # Thermalization steps\n",
    "    MC.update!(ss, β, ntherm)\n",
    "    \n",
    "    # Measurement steps\n",
    "    for imeas in 1:(nsweeps÷interval_meas)\n",
    "        MC.update!(ss, β, interval_meas)\n",
    "        Meas.add!(acc, \"E\", Float64(ss.energy))\n",
    "        Meas.add!(acc, \"E2\", Float64(ss.energy)^2)\n",
    "    end\n",
    "    MC.sanity_check(ss)\n",
    "end\n",
    "\n",
    "nsweeps = 100\n",
    "interval_meas = 10\n",
    "ntherm = nsweeps÷10\n",
    "β = 1.0"
   ]
  },
  {
   "cell_type": "code",
   "execution_count": 27,
   "id": "2a1d9212",
   "metadata": {},
   "outputs": [
    {
     "name": "stderr",
     "output_type": "stream",
     "text": [
      "\u001b[36m\u001b[1m[ \u001b[22m\u001b[39m\u001b[36m\u001b[1mInfo: \u001b[22m\u001b[39mPrecompiling Plots [91a5bcdd-55d7-5caf-9e0b-520d859cae80]\n",
      "\u001b[33m\u001b[1m┌ \u001b[22m\u001b[39m\u001b[33m\u001b[1mWarning: \u001b[22m\u001b[39mbackend `GR` is not installed.\n",
      "\u001b[33m\u001b[1m└ \u001b[22m\u001b[39m\u001b[90m@ Plots ~/.julia/packages/Plots/tDHxD/src/backends.jl:43\u001b[39m\n"
     ]
    }
   ],
   "source": [
    "using Plots"
   ]
  },
  {
   "cell_type": "code",
   "execution_count": 28,
   "id": "fffe2559",
   "metadata": {},
   "outputs": [
    {
     "data": {
      "image/svg+xml": [
       "<?xml version=\"1.0\" encoding=\"utf-8\"?>\n",
       "<svg xmlns=\"http://www.w3.org/2000/svg\" xmlns:xlink=\"http://www.w3.org/1999/xlink\" width=\"600\" height=\"400\" viewBox=\"0 0 2400 1600\">\n",
       "<defs>\n",
       "  <clipPath id=\"clip100\">\n",
       "    <rect x=\"0\" y=\"0\" width=\"2400\" height=\"1600\"/>\n",
       "  </clipPath>\n",
       "</defs>\n",
       "<path clip-path=\"url(#clip100)\" d=\"M0 1600 L2400 1600 L2400 0 L0 0  Z\" fill=\"#ffffff\" fill-rule=\"evenodd\" fill-opacity=\"1\"/>\n",
       "<defs>\n",
       "  <clipPath id=\"clip101\">\n",
       "    <rect x=\"480\" y=\"0\" width=\"1681\" height=\"1600\"/>\n",
       "  </clipPath>\n",
       "</defs>\n",
       "<path clip-path=\"url(#clip100)\" d=\"M141.853 1486.45 L2352.76 1486.45 L2352.76 47.2441 L141.853 47.2441  Z\" fill=\"#ffffff\" fill-rule=\"evenodd\" fill-opacity=\"1\"/>\n",
       "<defs>\n",
       "  <clipPath id=\"clip102\">\n",
       "    <rect x=\"141\" y=\"47\" width=\"2212\" height=\"1440\"/>\n",
       "  </clipPath>\n",
       "</defs>\n",
       "<polyline clip-path=\"url(#clip102)\" style=\"stroke:#000000; stroke-linecap:round; stroke-linejoin:round; stroke-width:2; stroke-opacity:0.1; fill:none\" points=\"436.177,1486.45 436.177,47.2441 \"/>\n",
       "<polyline clip-path=\"url(#clip102)\" style=\"stroke:#000000; stroke-linecap:round; stroke-linejoin:round; stroke-width:2; stroke-opacity:0.1; fill:none\" points=\"899.678,1486.45 899.678,47.2441 \"/>\n",
       "<polyline clip-path=\"url(#clip102)\" style=\"stroke:#000000; stroke-linecap:round; stroke-linejoin:round; stroke-width:2; stroke-opacity:0.1; fill:none\" points=\"1363.18,1486.45 1363.18,47.2441 \"/>\n",
       "<polyline clip-path=\"url(#clip102)\" style=\"stroke:#000000; stroke-linecap:round; stroke-linejoin:round; stroke-width:2; stroke-opacity:0.1; fill:none\" points=\"1826.68,1486.45 1826.68,47.2441 \"/>\n",
       "<polyline clip-path=\"url(#clip102)\" style=\"stroke:#000000; stroke-linecap:round; stroke-linejoin:round; stroke-width:2; stroke-opacity:0.1; fill:none\" points=\"2290.18,1486.45 2290.18,47.2441 \"/>\n",
       "<polyline clip-path=\"url(#clip100)\" style=\"stroke:#000000; stroke-linecap:round; stroke-linejoin:round; stroke-width:4; stroke-opacity:1; fill:none\" points=\"141.853,1486.45 2352.76,1486.45 \"/>\n",
       "<polyline clip-path=\"url(#clip100)\" style=\"stroke:#000000; stroke-linecap:round; stroke-linejoin:round; stroke-width:4; stroke-opacity:1; fill:none\" points=\"436.177,1486.45 436.177,1467.55 \"/>\n",
       "<polyline clip-path=\"url(#clip100)\" style=\"stroke:#000000; stroke-linecap:round; stroke-linejoin:round; stroke-width:4; stroke-opacity:1; fill:none\" points=\"899.678,1486.45 899.678,1467.55 \"/>\n",
       "<polyline clip-path=\"url(#clip100)\" style=\"stroke:#000000; stroke-linecap:round; stroke-linejoin:round; stroke-width:4; stroke-opacity:1; fill:none\" points=\"1363.18,1486.45 1363.18,1467.55 \"/>\n",
       "<polyline clip-path=\"url(#clip100)\" style=\"stroke:#000000; stroke-linecap:round; stroke-linejoin:round; stroke-width:4; stroke-opacity:1; fill:none\" points=\"1826.68,1486.45 1826.68,1467.55 \"/>\n",
       "<polyline clip-path=\"url(#clip100)\" style=\"stroke:#000000; stroke-linecap:round; stroke-linejoin:round; stroke-width:4; stroke-opacity:1; fill:none\" points=\"2290.18,1486.45 2290.18,1467.55 \"/>\n",
       "<path clip-path=\"url(#clip100)\" d=\"M430.829 1544.91 L447.149 1544.91 L447.149 1548.85 L425.204 1548.85 L425.204 1544.91 Q427.866 1542.16 432.45 1537.53 Q437.056 1532.88 438.237 1531.53 Q440.482 1529.01 441.362 1527.27 Q442.264 1525.51 442.264 1523.82 Q442.264 1521.07 440.32 1519.33 Q438.399 1517.6 435.297 1517.6 Q433.098 1517.6 430.644 1518.36 Q428.214 1519.13 425.436 1520.68 L425.436 1515.95 Q428.26 1514.82 430.714 1514.24 Q433.167 1513.66 435.204 1513.66 Q440.575 1513.66 443.769 1516.35 Q446.963 1519.03 446.963 1523.52 Q446.963 1525.65 446.153 1527.57 Q445.366 1529.47 443.26 1532.07 Q442.681 1532.74 439.579 1535.95 Q436.477 1539.15 430.829 1544.91 Z\" fill=\"#000000\" fill-rule=\"nonzero\" fill-opacity=\"1\" /><path clip-path=\"url(#clip100)\" d=\"M902.687 1518.36 L890.882 1536.81 L902.687 1536.81 L902.687 1518.36 M901.461 1514.29 L907.34 1514.29 L907.34 1536.81 L912.271 1536.81 L912.271 1540.7 L907.34 1540.7 L907.34 1548.85 L902.687 1548.85 L902.687 1540.7 L887.086 1540.7 L887.086 1536.19 L901.461 1514.29 Z\" fill=\"#000000\" fill-rule=\"nonzero\" fill-opacity=\"1\" /><path clip-path=\"url(#clip100)\" d=\"M1363.58 1529.7 Q1360.44 1529.7 1358.58 1531.86 Q1356.76 1534.01 1356.76 1537.76 Q1356.76 1541.49 1358.58 1543.66 Q1360.44 1545.82 1363.58 1545.82 Q1366.73 1545.82 1368.56 1543.66 Q1370.41 1541.49 1370.41 1537.76 Q1370.41 1534.01 1368.56 1531.86 Q1366.73 1529.7 1363.58 1529.7 M1372.87 1515.05 L1372.87 1519.31 Q1371.11 1518.48 1369.3 1518.04 Q1367.52 1517.6 1365.76 1517.6 Q1361.13 1517.6 1358.68 1520.72 Q1356.25 1523.85 1355.9 1530.17 Q1357.27 1528.15 1359.33 1527.09 Q1361.39 1526 1363.86 1526 Q1369.07 1526 1372.08 1529.17 Q1375.11 1532.32 1375.11 1537.76 Q1375.11 1543.08 1371.96 1546.3 Q1368.82 1549.52 1363.58 1549.52 Q1357.59 1549.52 1354.42 1544.94 Q1351.25 1540.33 1351.25 1531.6 Q1351.25 1523.41 1355.14 1518.55 Q1359.02 1513.66 1365.58 1513.66 Q1367.33 1513.66 1369.12 1514.01 Q1370.92 1514.36 1372.87 1515.05 Z\" fill=\"#000000\" fill-rule=\"nonzero\" fill-opacity=\"1\" /><path clip-path=\"url(#clip100)\" d=\"M1826.68 1532.44 Q1823.35 1532.44 1821.43 1534.22 Q1819.53 1536 1819.53 1539.13 Q1819.53 1542.25 1821.43 1544.03 Q1823.35 1545.82 1826.68 1545.82 Q1830.01 1545.82 1831.94 1544.03 Q1833.86 1542.23 1833.86 1539.13 Q1833.86 1536 1831.94 1534.22 Q1830.04 1532.44 1826.68 1532.44 M1822.01 1530.45 Q1819 1529.7 1817.31 1527.64 Q1815.64 1525.58 1815.64 1522.62 Q1815.64 1518.48 1818.58 1516.07 Q1821.54 1513.66 1826.68 1513.66 Q1831.84 1513.66 1834.78 1516.07 Q1837.72 1518.48 1837.72 1522.62 Q1837.72 1525.58 1836.03 1527.64 Q1834.37 1529.7 1831.38 1530.45 Q1834.76 1531.23 1836.64 1533.52 Q1838.53 1535.82 1838.53 1539.13 Q1838.53 1544.15 1835.45 1546.83 Q1832.4 1549.52 1826.68 1549.52 Q1820.96 1549.52 1817.89 1546.83 Q1814.83 1544.15 1814.83 1539.13 Q1814.83 1535.82 1816.73 1533.52 Q1818.63 1531.23 1822.01 1530.45 M1820.29 1523.06 Q1820.29 1525.75 1821.96 1527.25 Q1823.65 1528.76 1826.68 1528.76 Q1829.69 1528.76 1831.38 1527.25 Q1833.09 1525.75 1833.09 1523.06 Q1833.09 1520.38 1831.38 1518.87 Q1829.69 1517.37 1826.68 1517.37 Q1823.65 1517.37 1821.96 1518.87 Q1820.29 1520.38 1820.29 1523.06 Z\" fill=\"#000000\" fill-rule=\"nonzero\" fill-opacity=\"1\" /><path clip-path=\"url(#clip100)\" d=\"M2264.87 1544.91 L2272.51 1544.91 L2272.51 1518.55 L2264.2 1520.21 L2264.2 1515.95 L2272.46 1514.29 L2277.14 1514.29 L2277.14 1544.91 L2284.78 1544.91 L2284.78 1548.85 L2264.87 1548.85 L2264.87 1544.91 Z\" fill=\"#000000\" fill-rule=\"nonzero\" fill-opacity=\"1\" /><path clip-path=\"url(#clip100)\" d=\"M2304.22 1517.37 Q2300.61 1517.37 2298.78 1520.93 Q2296.98 1524.47 2296.98 1531.6 Q2296.98 1538.71 2298.78 1542.27 Q2300.61 1545.82 2304.22 1545.82 Q2307.86 1545.82 2309.66 1542.27 Q2311.49 1538.71 2311.49 1531.6 Q2311.49 1524.47 2309.66 1520.93 Q2307.86 1517.37 2304.22 1517.37 M2304.22 1513.66 Q2310.03 1513.66 2313.09 1518.27 Q2316.17 1522.85 2316.17 1531.6 Q2316.17 1540.33 2313.09 1544.94 Q2310.03 1549.52 2304.22 1549.52 Q2298.41 1549.52 2295.33 1544.94 Q2292.28 1540.33 2292.28 1531.6 Q2292.28 1522.85 2295.33 1518.27 Q2298.41 1513.66 2304.22 1513.66 Z\" fill=\"#000000\" fill-rule=\"nonzero\" fill-opacity=\"1\" /><polyline clip-path=\"url(#clip102)\" style=\"stroke:#000000; stroke-linecap:round; stroke-linejoin:round; stroke-width:2; stroke-opacity:0.1; fill:none\" points=\"141.853,1276.81 2352.76,1276.81 \"/>\n",
       "<polyline clip-path=\"url(#clip102)\" style=\"stroke:#000000; stroke-linecap:round; stroke-linejoin:round; stroke-width:2; stroke-opacity:0.1; fill:none\" points=\"141.853,1021.5 2352.76,1021.5 \"/>\n",
       "<polyline clip-path=\"url(#clip102)\" style=\"stroke:#000000; stroke-linecap:round; stroke-linejoin:round; stroke-width:2; stroke-opacity:0.1; fill:none\" points=\"141.853,766.186 2352.76,766.186 \"/>\n",
       "<polyline clip-path=\"url(#clip102)\" style=\"stroke:#000000; stroke-linecap:round; stroke-linejoin:round; stroke-width:2; stroke-opacity:0.1; fill:none\" points=\"141.853,510.873 2352.76,510.873 \"/>\n",
       "<polyline clip-path=\"url(#clip102)\" style=\"stroke:#000000; stroke-linecap:round; stroke-linejoin:round; stroke-width:2; stroke-opacity:0.1; fill:none\" points=\"141.853,255.561 2352.76,255.561 \"/>\n",
       "<polyline clip-path=\"url(#clip100)\" style=\"stroke:#000000; stroke-linecap:round; stroke-linejoin:round; stroke-width:4; stroke-opacity:1; fill:none\" points=\"141.853,1486.45 141.853,47.2441 \"/>\n",
       "<polyline clip-path=\"url(#clip100)\" style=\"stroke:#000000; stroke-linecap:round; stroke-linejoin:round; stroke-width:4; stroke-opacity:1; fill:none\" points=\"141.853,1276.81 160.751,1276.81 \"/>\n",
       "<polyline clip-path=\"url(#clip100)\" style=\"stroke:#000000; stroke-linecap:round; stroke-linejoin:round; stroke-width:4; stroke-opacity:1; fill:none\" points=\"141.853,1021.5 160.751,1021.5 \"/>\n",
       "<polyline clip-path=\"url(#clip100)\" style=\"stroke:#000000; stroke-linecap:round; stroke-linejoin:round; stroke-width:4; stroke-opacity:1; fill:none\" points=\"141.853,766.186 160.751,766.186 \"/>\n",
       "<polyline clip-path=\"url(#clip100)\" style=\"stroke:#000000; stroke-linecap:round; stroke-linejoin:round; stroke-width:4; stroke-opacity:1; fill:none\" points=\"141.853,510.873 160.751,510.873 \"/>\n",
       "<polyline clip-path=\"url(#clip100)\" style=\"stroke:#000000; stroke-linecap:round; stroke-linejoin:round; stroke-width:4; stroke-opacity:1; fill:none\" points=\"141.853,255.561 160.751,255.561 \"/>\n",
       "<path clip-path=\"url(#clip100)\" d=\"M57.7745 1290.16 L74.0939 1290.16 L74.0939 1294.09 L52.1495 1294.09 L52.1495 1290.16 Q54.8115 1287.4 59.3949 1282.77 Q64.0013 1278.12 65.1819 1276.78 Q67.4272 1274.25 68.3068 1272.52 Q69.2096 1270.76 69.2096 1269.07 Q69.2096 1266.31 67.2652 1264.58 Q65.3439 1262.84 62.2421 1262.84 Q60.043 1262.84 57.5893 1263.61 Q55.1588 1264.37 52.381 1265.92 L52.381 1261.2 Q55.2051 1260.06 57.6588 1259.49 Q60.1124 1258.91 62.1495 1258.91 Q67.5198 1258.91 70.7142 1261.59 Q73.9087 1264.28 73.9087 1268.77 Q73.9087 1270.9 73.0985 1272.82 Q72.3115 1274.72 70.205 1277.31 Q69.6263 1277.98 66.5245 1281.2 Q63.4226 1284.39 57.7745 1290.16 Z\" fill=\"#000000\" fill-rule=\"nonzero\" fill-opacity=\"1\" /><path clip-path=\"url(#clip100)\" d=\"M93.9086 1262.61 Q90.2975 1262.61 88.4688 1266.18 Q86.6632 1269.72 86.6632 1276.85 Q86.6632 1283.95 88.4688 1287.52 Q90.2975 1291.06 93.9086 1291.06 Q97.5428 1291.06 99.3483 1287.52 Q101.177 1283.95 101.177 1276.85 Q101.177 1269.72 99.3483 1266.18 Q97.5428 1262.61 93.9086 1262.61 M93.9086 1258.91 Q99.7187 1258.91 102.774 1263.51 Q105.853 1268.1 105.853 1276.85 Q105.853 1285.57 102.774 1290.18 Q99.7187 1294.76 93.9086 1294.76 Q88.0984 1294.76 85.0197 1290.18 Q81.9642 1285.57 81.9642 1276.85 Q81.9642 1268.1 85.0197 1263.51 Q88.0984 1258.91 93.9086 1258.91 Z\" fill=\"#000000\" fill-rule=\"nonzero\" fill-opacity=\"1\" /><path clip-path=\"url(#clip100)\" d=\"M58.7699 1034.84 L75.0892 1034.84 L75.0892 1038.78 L53.1449 1038.78 L53.1449 1034.84 Q55.8069 1032.09 60.3902 1027.46 Q64.9967 1022.81 66.1772 1021.46 Q68.4226 1018.94 69.3022 1017.2 Q70.205 1015.45 70.205 1013.76 Q70.205 1011 68.2606 1009.27 Q66.3393 1007.53 63.2374 1007.53 Q61.0384 1007.53 58.5847 1008.29 Q56.1541 1009.06 53.3764 1010.61 L53.3764 1005.89 Q56.2004 1004.75 58.6541 1004.17 Q61.1078 1003.59 63.1448 1003.59 Q68.5152 1003.59 71.7096 1006.28 Q74.904 1008.96 74.904 1013.45 Q74.904 1015.58 74.0939 1017.51 Q73.3068 1019.4 71.2004 1022 Q70.6217 1022.67 67.5198 1025.89 Q64.418 1029.08 58.7699 1034.84 Z\" fill=\"#000000\" fill-rule=\"nonzero\" fill-opacity=\"1\" /><path clip-path=\"url(#clip100)\" d=\"M84.9503 1004.22 L103.307 1004.22 L103.307 1008.15 L89.2327 1008.15 L89.2327 1016.63 Q90.2512 1016.28 91.2697 1016.12 Q92.2882 1015.93 93.3067 1015.93 Q99.0937 1015.93 102.473 1019.1 Q105.853 1022.27 105.853 1027.69 Q105.853 1033.27 102.381 1036.37 Q98.9085 1039.45 92.5891 1039.45 Q90.4132 1039.45 88.1447 1039.08 Q85.8993 1038.71 83.492 1037.97 L83.492 1033.27 Q85.5753 1034.4 87.7975 1034.96 Q90.0197 1035.51 92.4965 1035.51 Q96.5011 1035.51 98.8391 1033.41 Q101.177 1031.3 101.177 1027.69 Q101.177 1024.08 98.8391 1021.97 Q96.5011 1019.87 92.4965 1019.87 Q90.6215 1019.87 88.7466 1020.28 Q86.8947 1020.7 84.9503 1021.58 L84.9503 1004.22 Z\" fill=\"#000000\" fill-rule=\"nonzero\" fill-opacity=\"1\" /><path clip-path=\"url(#clip100)\" d=\"M67.9133 764.832 Q71.2698 765.55 73.1448 767.818 Q75.0429 770.087 75.0429 773.42 Q75.0429 778.536 71.5244 781.336 Q68.0059 784.137 61.5245 784.137 Q59.3486 784.137 57.0338 783.698 Q54.7421 783.281 52.2884 782.424 L52.2884 777.911 Q54.2328 779.045 56.5477 779.624 Q58.8625 780.202 61.3856 780.202 Q65.7837 780.202 68.0754 778.466 Q70.3902 776.73 70.3902 773.42 Q70.3902 770.364 68.2374 768.651 Q66.1078 766.915 62.2884 766.915 L58.2606 766.915 L58.2606 763.073 L62.4735 763.073 Q65.9226 763.073 67.7513 761.707 Q69.58 760.318 69.58 757.725 Q69.58 755.063 67.6819 753.651 Q65.8069 752.216 62.2884 752.216 Q60.3671 752.216 58.168 752.633 Q55.969 753.05 53.3301 753.929 L53.3301 749.763 Q55.9921 749.022 58.3069 748.651 Q60.6449 748.281 62.705 748.281 Q68.0291 748.281 71.1309 750.712 Q74.2327 753.119 74.2327 757.239 Q74.2327 760.11 72.5892 762.1 Q70.9457 764.068 67.9133 764.832 Z\" fill=\"#000000\" fill-rule=\"nonzero\" fill-opacity=\"1\" /><path clip-path=\"url(#clip100)\" d=\"M93.9086 751.985 Q90.2975 751.985 88.4688 755.55 Q86.6632 759.091 86.6632 766.221 Q86.6632 773.327 88.4688 776.892 Q90.2975 780.434 93.9086 780.434 Q97.5428 780.434 99.3483 776.892 Q101.177 773.327 101.177 766.221 Q101.177 759.091 99.3483 755.55 Q97.5428 751.985 93.9086 751.985 M93.9086 748.281 Q99.7187 748.281 102.774 752.888 Q105.853 757.471 105.853 766.221 Q105.853 774.948 102.774 779.554 Q99.7187 784.137 93.9086 784.137 Q88.0984 784.137 85.0197 779.554 Q81.9642 774.948 81.9642 766.221 Q81.9642 757.471 85.0197 752.888 Q88.0984 748.281 93.9086 748.281 Z\" fill=\"#000000\" fill-rule=\"nonzero\" fill-opacity=\"1\" /><path clip-path=\"url(#clip100)\" d=\"M68.9087 509.519 Q72.2652 510.237 74.1402 512.505 Q76.0383 514.774 76.0383 518.107 Q76.0383 523.223 72.5198 526.024 Q69.0013 528.825 62.5198 528.825 Q60.3439 528.825 58.0291 528.385 Q55.7375 527.968 53.2838 527.112 L53.2838 522.598 Q55.2282 523.732 57.543 524.311 Q59.8578 524.889 62.381 524.889 Q66.7791 524.889 69.0707 523.153 Q71.3855 521.417 71.3855 518.107 Q71.3855 515.052 69.2328 513.339 Q67.1032 511.603 63.2837 511.603 L59.256 511.603 L59.256 507.76 L63.4689 507.76 Q66.918 507.76 68.7467 506.394 Q70.5754 505.005 70.5754 502.413 Q70.5754 499.751 68.6772 498.339 Q66.8022 496.904 63.2837 496.904 Q61.3624 496.904 59.1634 497.32 Q56.9643 497.737 54.3254 498.616 L54.3254 494.45 Q56.9875 493.709 59.3023 493.339 Q61.6402 492.968 63.7004 492.968 Q69.0244 492.968 72.1263 495.399 Q75.2281 497.806 75.2281 501.927 Q75.2281 504.797 73.5846 506.788 Q71.9411 508.755 68.9087 509.519 Z\" fill=\"#000000\" fill-rule=\"nonzero\" fill-opacity=\"1\" /><path clip-path=\"url(#clip100)\" d=\"M84.9503 493.593 L103.307 493.593 L103.307 497.529 L89.2327 497.529 L89.2327 506.001 Q90.2512 505.653 91.2697 505.491 Q92.2882 505.306 93.3067 505.306 Q99.0937 505.306 102.473 508.478 Q105.853 511.649 105.853 517.065 Q105.853 522.644 102.381 525.746 Q98.9085 528.825 92.5891 528.825 Q90.4132 528.825 88.1447 528.454 Q85.8993 528.084 83.492 527.343 L83.492 522.644 Q85.5753 523.778 87.7975 524.334 Q90.0197 524.889 92.4965 524.889 Q96.5011 524.889 98.8391 522.783 Q101.177 520.677 101.177 517.065 Q101.177 513.454 98.8391 511.348 Q96.5011 509.241 92.4965 509.241 Q90.6215 509.241 88.7466 509.658 Q86.8947 510.075 84.9503 510.954 L84.9503 493.593 Z\" fill=\"#000000\" fill-rule=\"nonzero\" fill-opacity=\"1\" /><path clip-path=\"url(#clip100)\" d=\"M66.5939 242.355 L54.7884 260.804 L66.5939 260.804 L66.5939 242.355 M65.367 238.281 L71.2466 238.281 L71.2466 260.804 L76.1772 260.804 L76.1772 264.692 L71.2466 264.692 L71.2466 272.841 L66.5939 272.841 L66.5939 264.692 L50.9921 264.692 L50.9921 260.179 L65.367 238.281 Z\" fill=\"#000000\" fill-rule=\"nonzero\" fill-opacity=\"1\" /><path clip-path=\"url(#clip100)\" d=\"M93.9086 241.359 Q90.2975 241.359 88.4688 244.924 Q86.6632 248.466 86.6632 255.595 Q86.6632 262.702 88.4688 266.267 Q90.2975 269.808 93.9086 269.808 Q97.5428 269.808 99.3483 266.267 Q101.177 262.702 101.177 255.595 Q101.177 248.466 99.3483 244.924 Q97.5428 241.359 93.9086 241.359 M93.9086 237.656 Q99.7187 237.656 102.774 242.262 Q105.853 246.845 105.853 255.595 Q105.853 264.322 102.774 268.929 Q99.7187 273.512 93.9086 273.512 Q88.0984 273.512 85.0197 268.929 Q81.9642 264.322 81.9642 255.595 Q81.9642 246.845 85.0197 242.262 Q88.0984 237.656 93.9086 237.656 Z\" fill=\"#000000\" fill-rule=\"nonzero\" fill-opacity=\"1\" /><polyline clip-path=\"url(#clip102)\" style=\"stroke:#009af9; stroke-linecap:round; stroke-linejoin:round; stroke-width:4; stroke-opacity:1; fill:none\" points=\"204.426,1445.72 436.177,458.459 667.927,87.9763 899.678,112.619 1131.43,290.899 1363.18,542.168 1594.93,768.092 1826.68,963.394 2058.43,1152.7 2290.18,1283.39 \"/>\n",
       "<path clip-path=\"url(#clip100)\" d=\"M2005.54 198.898 L2279.06 198.898 L2279.06 95.2176 L2005.54 95.2176  Z\" fill=\"#ffffff\" fill-rule=\"evenodd\" fill-opacity=\"1\"/>\n",
       "<polyline clip-path=\"url(#clip100)\" style=\"stroke:#000000; stroke-linecap:round; stroke-linejoin:round; stroke-width:4; stroke-opacity:1; fill:none\" points=\"2005.54,198.898 2279.06,198.898 2279.06,95.2176 2005.54,95.2176 2005.54,198.898 \"/>\n",
       "<polyline clip-path=\"url(#clip100)\" style=\"stroke:#009af9; stroke-linecap:round; stroke-linejoin:round; stroke-width:4; stroke-opacity:1; fill:none\" points=\"2030.1,147.058 2177.5,147.058 \"/>\n",
       "<path clip-path=\"url(#clip100)\" d=\"M2215.91 166.745 Q2214.1 171.375 2212.39 172.787 Q2210.67 174.199 2207.8 174.199 L2204.4 174.199 L2204.4 170.634 L2206.9 170.634 Q2208.66 170.634 2209.63 169.8 Q2210.6 168.967 2211.79 165.865 L2212.55 163.921 L2202.06 138.412 L2206.58 138.412 L2214.68 158.689 L2222.78 138.412 L2227.29 138.412 L2215.91 166.745 Z\" fill=\"#000000\" fill-rule=\"nonzero\" fill-opacity=\"1\" /><path clip-path=\"url(#clip100)\" d=\"M2234.59 160.402 L2242.23 160.402 L2242.23 134.037 L2233.91 135.703 L2233.91 131.444 L2242.18 129.778 L2246.85 129.778 L2246.85 160.402 L2254.49 160.402 L2254.49 164.338 L2234.59 164.338 L2234.59 160.402 Z\" fill=\"#000000\" fill-rule=\"nonzero\" fill-opacity=\"1\" /></svg>\n"
      ]
     },
     "execution_count": 28,
     "metadata": {},
     "output_type": "execute_result"
    }
   ],
   "source": [
    "plot(C_mc)"
   ]
  },
  {
   "cell_type": "code",
   "execution_count": 36,
   "id": "effba6f8",
   "metadata": {},
   "outputs": [
    {
     "ename": "LoadError",
     "evalue": "type Array has no field s",
     "output_type": "error",
     "traceback": [
      "type Array has no field s",
      "",
      "Stacktrace:",
      " [1] getproperty",
      "   @ ./Base.jl:38 [inlined]",
      " [2] update!(ss::Vector{Int8}, β::Float64, niters::Int64)",
      "   @ Main.MC ./In[13]:50",
      " [3] solve!(ss::Vector{Int8}, acc::Int64, β::Float64, nsweeps::Int64, ntherm::Int64, interval_meas::Int64)",
      "   @ Main ./In[25]:7",
      " [4] top-level scope",
      "   @ In[36]:3"
     ]
    }
   ],
   "source": [
    "s0 = rand(Int8[-1, 1], num_spins)\n",
    "\n",
    "solve!(s0, 0, 1/2, 10^3, nsweeps÷10, 10)"
   ]
  },
  {
   "cell_type": "code",
   "execution_count": null,
   "id": "ce30afe8",
   "metadata": {},
   "outputs": [],
   "source": [
    "heatmap()"
   ]
  },
  {
   "cell_type": "code",
   "execution_count": null,
   "id": "3a4142d6",
   "metadata": {},
   "outputs": [],
   "source": []
  },
  {
   "cell_type": "code",
   "execution_count": null,
   "id": "210f0d0f",
   "metadata": {},
   "outputs": [],
   "source": []
  },
  {
   "cell_type": "code",
   "execution_count": null,
   "id": "64f64976",
   "metadata": {},
   "outputs": [],
   "source": []
  },
  {
   "cell_type": "code",
   "execution_count": null,
   "id": "d8956d87",
   "metadata": {},
   "outputs": [],
   "source": []
  },
  {
   "cell_type": "code",
   "execution_count": 2,
   "id": "659aa5c3",
   "metadata": {},
   "outputs": [],
   "source": [
    "# Wolff"
   ]
  },
  {
   "cell_type": "code",
   "execution_count": 3,
   "id": "bbed7290",
   "metadata": {},
   "outputs": [],
   "source": [
    "######### 2d Ising"
   ]
  },
  {
   "cell_type": "code",
   "execution_count": null,
   "id": "1fa5bb5a",
   "metadata": {},
   "outputs": [],
   "source": []
  }
 ],
 "metadata": {
  "kernelspec": {
   "display_name": "Julia 1.8.5",
   "language": "julia",
   "name": "julia-1.8"
  },
  "language_info": {
   "file_extension": ".jl",
   "mimetype": "application/julia",
   "name": "julia",
   "version": "1.8.5"
  }
 },
 "nbformat": 4,
 "nbformat_minor": 5
}
